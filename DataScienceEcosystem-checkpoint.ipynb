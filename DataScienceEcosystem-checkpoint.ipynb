{
 "cells": [
  {
   "cell_type": "markdown",
   "id": "7829fe28",
   "metadata": {},
   "source": [
    "<h3> Exercise 2: Create a Jupyter Notebook\n",
    "        <h1> Data Science Tools and Ecosystem"
   ]
  },
  {
   "cell_type": "markdown",
   "id": "4b1949df",
   "metadata": {},
   "source": [
    "<h3> Exercise 3: Create markdown cell with title of the notebook\n",
    "    \n",
    "    \n",
    "\n",
    "    \n",
    "    In this notebook, Data Science Tools and Ecosystem are summarized."
   ]
  },
  {
   "cell_type": "markdown",
   "id": "b3fedd00",
   "metadata": {},
   "source": [
    "**Objectives:**\n",
    "- Python\n",
    "- R\n",
    "- Java\n",
    "- Julia\n"
   ]
  },
  {
   "cell_type": "markdown",
   "id": "decdc4be",
   "metadata": {},
   "source": [
    "<h3> Exercise 4 - Create a markdown cell for an introduction\n",
    "    \n",
    "    \n",
    "\n",
    "Some of the popular languages that Data Scientists use are:\n",
    "1. Python\n",
    "2. R\n",
    "3. Scala\n",
    "4. Java\n",
    "5. Julia"
   ]
  },
  {
   "cell_type": "markdown",
   "id": "face729e",
   "metadata": {},
   "source": [
    "<h3> Exercise 4 - Create a markdown cell to list data science languages\n",
    "   \n",
    "    \n",
    "    \n",
    "    Some of the commonly used libraries used by Data Scientists include:\n",
    "##### Python:\n",
    "- **NumPy**: Library for numerical computing in Python.\n",
    "- **Pandas**: Data manipulation and analysis library.\n",
    "- **Matplotlib**: Plotting library for creating visualizations.\n",
    "- **Seaborn**: Statistical data visualization library based on Matplotlib.\n",
    "- **Scikit-learn**: Machine learning library with various algorithms and tools.\n",
    "\n",
    "##### R:\n",
    "\n",
    "- **dplyr**: Data manipulation library for R.\n",
    "- **ggplot2**: Data visualization library for creating graphics.\n",
    "- **caret**: Machine learning library with unified interface to various models.\n",
    "- **tidyr**: Library for data tidying and reshaping."
   ]
  },
  {
   "cell_type": "markdown",
   "id": "7f803a9b",
   "metadata": {},
   "source": [
    "<h3> Exercise 5 - Create a markdown cell with a table of Data Science tools\n",
    "    \n",
    "    \n",
    "    ### Data Science Tools\n",
    "\n",
    "| Category          | Tools                                                |\n",
    "|-------------------|------------------------------------------------------|\n",
    "| Programming       | Python, R, Julia, Scala                              |\n",
    "| Data Manipulation | Pandas (Python), dplyr (R), SQL                      |\n",
    "| Visualization     | Matplotlib, Seaborn (Python), ggplot2 (R)            |\n",
    "| Machine Learning  | Scikit-learn (Python), caret (R), TensorFlow, PyTorch|\n",
    "| Big Data          | Apache Spark, Hadoop, Apache Flink                   |\n",
    "| Deep Learning     | TensorFlow, PyTorch, Keras                           |\n",
    "| Database          | SQL (SQLite, PostgreSQL, MySQL), MongoDB             |\n",
    "| Cloud Platforms   | AWS, Azure, Google Cloud Platform                    |\n",
    "| Version Control   | Git, GitHub, GitLab                                  |\n",
    "| Notebooks         | Jupyter Notebook, Google Colab                       |"
   ]
  },
  {
   "cell_type": "markdown",
   "id": "4e2255ec",
   "metadata": {},
   "source": [
    "<h3> Exercise 6 - Create a markdown cell with a table of Data Science tools\n",
    "    \n",
    "     \n",
    "    \n",
    "    \n",
    "    \n",
    "| Category            | Tools                                                 |\n",
    "|---------------------|-------------------------------------------------------|\n",
    "| Programming         | Python, R, Julia, Scala                               |\n",
    "| Data Manipulation   | Pandas (Python), dplyr (R), SQL                       |\n",
    "| Visualization       | Matplotlib, Seaborn (Python), ggplot2 (R)             |\n",
    "| Machine Learning    | Scikit-learn (Python), caret (R), TensorFlow, PyTorch |\n",
    "| Deep Learning       | TensorFlow, PyTorch, Keras                            |\n",
    "| Big Data            | Apache Spark, Hadoop, Apache Flink                    |\n",
    "| Database            | SQL (SQLite, PostgreSQL, MySQL), MongoDB              |\n",
    "| Cloud Platforms     | AWS, Azure, Google Cloud Platform                     |\n",
    "| Version Control     | Git, GitHub, GitLab                                   |\n",
    "| Notebooks           | Jupyter Notebook, Google Colab                        |"
   ]
  },
  {
   "cell_type": "markdown",
   "id": "3f724358",
   "metadata": {},
   "source": [
    "<h3> Create a markdown cell introducing arithmetic expression examples\n",
    "\n",
    "\n",
    "<h3> Below are a few examples of evaluating arithmetic expressions in Python\n",
    "    \n",
    "    \n",
    " <h5>\n",
    "\n",
    "1. **Addition**: Adding two numbers together.\n",
    "   - Example: \\(1 + 3 = 4\\)\n",
    "\n",
    "2. **Subtraction**: Finding the difference between two numbers.\n",
    "   - Example: \\(7 - 2 = 5\\)\n",
    "\n",
    "3. **Multiplication**: Multiplying two numbers.\n",
    "   - Example: \\(10 \\times 2 = 5\\)\n",
    "\n",
    "4. **Division**: Dividing one number by another.\n",
    "   - Example: \\(\\frac{20}{2} = 10\\)\n",
    " \n",
    "    \n",
    "\n",
    "\n"
   ]
  },
  {
   "cell_type": "code",
   "execution_count": 4,
   "id": "44733698",
   "metadata": {},
   "outputs": [
    {
     "data": {
      "text/plain": [
       "17"
      ]
     },
     "execution_count": 4,
     "metadata": {},
     "output_type": "execute_result"
    }
   ],
   "source": [
    "#  This a simple arithmetic expression to mutiply then add integers\n",
    "(3*4) + 5\n",
    "\n",
    "\n"
   ]
  },
  {
   "cell_type": "code",
   "execution_count": 5,
   "id": "71792877",
   "metadata": {},
   "outputs": [
    {
     "name": "stdout",
     "output_type": "stream",
     "text": [
      "200 minutes = 3 hours 20 minutes\n"
     ]
    }
   ],
   "source": [
    "# This will convert 200 minutes to hours by diving by 60\n",
    "minutes = 200\n",
    "hours = minutes//60\n",
    "remaining_minutes = minutes % 60\n",
    "print(f\"{minutes} minutes = {hours} hours {remaining_minutes} minutes\")"
   ]
  },
  {
   "cell_type": "markdown",
   "id": "5f47f9ca",
   "metadata": {},
   "source": [
    "## Author\n",
    "#### Phan Dang Ha"
   ]
  },
  {
   "cell_type": "code",
   "execution_count": null,
   "id": "ca6bc0f6",
   "metadata": {},
   "outputs": [],
   "source": []
  }
 ],
 "metadata": {
  "kernelspec": {
   "display_name": "Python 3 (ipykernel)",
   "language": "python",
   "name": "python3"
  },
  "language_info": {
   "codemirror_mode": {
    "name": "ipython",
    "version": 3
   },
   "file_extension": ".py",
   "mimetype": "text/x-python",
   "name": "python",
   "nbconvert_exporter": "python",
   "pygments_lexer": "ipython3",
   "version": "3.11.7"
  }
 },
 "nbformat": 4,
 "nbformat_minor": 5
}
